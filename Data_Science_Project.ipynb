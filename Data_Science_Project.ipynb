{
  "nbformat": 4,
  "nbformat_minor": 0,
  "metadata": {
    "colab": {
      "provenance": []
    },
    "kernelspec": {
      "name": "python3",
      "display_name": "Python 3"
    },
    "language_info": {
      "name": "python"
    }
  },
  "cells": [
    {
      "cell_type": "code",
      "execution_count": null,
      "metadata": {
        "id": "Js4OIbIRdHO8"
      },
      "outputs": [],
      "source": [
        "#3D Graph Plot\n",
        "#importing the mplot3d toolkit, included with the main Matplotlib installation\n",
        "from mpl_toolkits import mplot3d\n",
        "\n",
        "%matplotlib inline\n",
        "import numpy as np\n",
        "import matplotlib.pyplot as plt\n",
        "\n",
        "# a three-dimensional axes can be created by passing the\n",
        "#keyword projection='3d' to any of the normal axes creation routines\n",
        "fig = plt.figure()\n",
        "ax = plt.axes(projection='3d')\n"
      ]
    },
    {
      "cell_type": "code",
      "source": [
        "#3D Points and lines\n",
        "from mpl_toolkits import mplot3d\n",
        "\n",
        "%matplotlib inline\n",
        "import numpy as np\n",
        "import matplotlib.pyplot as plt\n",
        "\n",
        "ax = plt.axes(projection='3d')\n",
        "\n",
        "# Data for a three-dimensional line\n",
        "zline = np.linspace(0, 15, 1000)\n",
        "xline = np.sin(zline)\n",
        "yline = np.cos(zline)\n",
        "ax.plot3D(xline, yline, zline, 'gray')\n",
        "\n",
        "# Data for three-dimensional scattered points\n",
        "zdata = 15 * np.random.random(100)\n",
        "xdata = np.sin(zdata) + 0.1 * np.random.randn(100)\n",
        "ydata = np.cos(zdata) + 0.1 * np.random.randn(100)\n",
        "ax.scatter3D(xdata, ydata, zdata, c=zdata, cmap='Greens');\n"
      ],
      "metadata": {
        "id": "X9-Oy-fddT7Z"
      },
      "execution_count": null,
      "outputs": []
    },
    {
      "cell_type": "code",
      "source": [
        "#3D Contour Plots\n",
        "from mpl_toolkits import mplot3d\n",
        "\n",
        "%matplotlib inline\n",
        "import numpy as np\n",
        "import matplotlib.pyplot as plt\n",
        "\n",
        "def f(x, y):\n",
        "    return np.sin(np.sqrt(x ** 2 + y ** 2))\n",
        "\n",
        "x = np.linspace(-6, 6, 30)\n",
        "y = np.linspace(-6, 6, 30)\n",
        "\n",
        "X, Y = np.meshgrid(x, y)\n",
        "Z = f(X, Y)\n",
        "\n",
        "fig = plt.figure()\n",
        "ax = plt.axes(projection='3d')\n",
        "ax.contour3D(X, Y, Z, 50, cmap='binary')\n",
        "ax.set_xlabel('x')\n",
        "ax.set_ylabel('y')\n",
        "ax.set_zlabel('z')"
      ],
      "metadata": {
        "id": "011XYhHcdau1"
      },
      "execution_count": null,
      "outputs": []
    },
    {
      "cell_type": "code",
      "source": [
        "#Surface Triangulation\n",
        "from mpl_toolkits import mplot3d\n",
        "\n",
        "%matplotlib inline\n",
        "import numpy as np\n",
        "import matplotlib.pyplot as plt\n",
        "\n",
        "theta = 2 * np.pi * np.random.random(1000)\n",
        "r = 6 * np.random.random(1000)\n",
        "x = np.ravel(r * np.sin(theta))\n",
        "y = np.ravel(r * np.cos(theta))\n",
        "z = f(x, y)\n",
        "\n",
        "ax = plt.axes(projection='3d')\n",
        "ax.scatter(x, y, z, c=z, cmap='viridis', linewidth=0.5);"
      ],
      "metadata": {
        "id": "3dYxoxtsdhZW"
      },
      "execution_count": null,
      "outputs": []
    }
  ]
}